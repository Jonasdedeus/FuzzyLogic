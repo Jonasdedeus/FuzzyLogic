{
  "nbformat": 4,
  "nbformat_minor": 0,
  "metadata": {
    "colab": {
      "name": "FuzzyLogic.ipynb",
      "provenance": [],
      "collapsed_sections": []
    },
    "kernelspec": {
      "name": "python3",
      "display_name": "Python 3"
    }
  },
  "cells": [
    {
      "cell_type": "markdown",
      "metadata": {
        "id": "5UJfahMPFO1Y"
      },
      "source": [
        "USING COLAB TO UPLOAD EXCEL FILE "
      ]
    },
    {
      "cell_type": "code",
      "metadata": {
        "id": "z8riz4ZmIL-h"
      },
      "source": [
        "# @author jonasdedeus"
      ],
      "execution_count": null,
      "outputs": []
    },
    {
      "cell_type": "code",
      "metadata": {
        "id": "qaZujw86BW06",
        "colab": {
          "resources": {
            "http://localhost:8080/nbextensions/google.colab/files.js": {
              "data": "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",
              "ok": true,
              "headers": [
                [
                  "content-type",
                  "application/javascript"
                ]
              ],
              "status": 200,
              "status_text": ""
            }
          },
          "base_uri": "https://localhost:8080/",
          "height": 72
        },
        "outputId": "bf13cb05-9448-4b8d-9f02-75bbcb841177"
      },
      "source": [
        "from google.colab import files\n",
        "uploaded = files.upload()"
      ],
      "execution_count": null,
      "outputs": [
        {
          "output_type": "display_data",
          "data": {
            "text/html": [
              "\n",
              "     <input type=\"file\" id=\"files-554d614e-2720-40af-bfd9-4a3667ef8276\" name=\"files[]\" multiple disabled\n",
              "        style=\"border:none\" />\n",
              "     <output id=\"result-554d614e-2720-40af-bfd9-4a3667ef8276\">\n",
              "      Upload widget is only available when the cell has been executed in the\n",
              "      current browser session. Please rerun this cell to enable.\n",
              "      </output>\n",
              "      <script src=\"/nbextensions/google.colab/files.js\"></script> "
            ],
            "text/plain": [
              "<IPython.core.display.HTML object>"
            ]
          },
          "metadata": {
            "tags": []
          }
        },
        {
          "output_type": "stream",
          "text": [
            "Saving Mahasiswa.xlsx to Mahasiswa.xlsx\n"
          ],
          "name": "stdout"
        }
      ]
    },
    {
      "cell_type": "markdown",
      "metadata": {
        "id": "BqyepiKqFWh3"
      },
      "source": [
        "LIBRARY"
      ]
    },
    {
      "cell_type": "code",
      "metadata": {
        "id": "xT5hJkjsvvp6"
      },
      "source": [
        "import matplotlib.pyplot as plt\n",
        "import pandas as pd\n",
        "from pandas import DataFrame\n",
        "import random"
      ],
      "execution_count": null,
      "outputs": []
    },
    {
      "cell_type": "markdown",
      "metadata": {
        "id": "1wh0gcdYEn0B"
      },
      "source": [
        "READ AND WRITE DATA"
      ]
    },
    {
      "cell_type": "code",
      "metadata": {
        "id": "r_jC4USzb3Mf"
      },
      "source": [
        "def import_from_xls(sid,inc,exp):\n",
        "  allstudent = []\n",
        "  for i in range (len(sid)):\n",
        "    student = []\n",
        "    j = 0\n",
        "    while j < 3:\n",
        "      if j == 0:\n",
        "        student.append(sid[i])\n",
        "      elif j == 1:\n",
        "        student.append(inc[i]) \n",
        "      else:\n",
        "        student.append(exp[i])\n",
        "      j=j+1\n",
        "    allstudent.append(student)\n",
        "  return allstudent\n",
        "\n",
        "def export_to_xls(selected):\n",
        "  bantuan = []\n",
        "  for i in range(0,20):\n",
        "    slt = selected[i][0]\n",
        "    bantuan.append(slt)\n",
        "  df = DataFrame({\n",
        "    'SID' : bantuan  \n",
        "  })\n",
        "\n",
        "  xlwriter = pd.ExcelWriter('Bantuan.xlsx')\n",
        "  df.to_excel(xlwriter,sheet_name='bantuan',index = False)\n",
        "  xlwriter.close()"
      ],
      "execution_count": null,
      "outputs": []
    },
    {
      "cell_type": "markdown",
      "metadata": {
        "id": "bdViQRbKEsUb"
      },
      "source": [
        "FUZZIFICATION"
      ]
    },
    {
      "cell_type": "code",
      "metadata": {
        "id": "YCWkH-aHwC6L",
        "colab": {
          "base_uri": "https://localhost:8080/",
          "height": 294
        },
        "outputId": "08dfd31e-8d19-47dc-affd-7e54447f264d"
      },
      "source": [
        "inc = [[0, 0, 4.00, 8.5, 19.70, 19.70 ], [0, 5.50, 7.75 , 15, 16.75, 19.70], [0, 0, 13.50, 17, 19.70, 19.70]]\n",
        "\n",
        "plt.plot(inc[0],[1,1,1,0,0,0],label=\"bottom\")\n",
        "plt.plot(inc[1],[0,0,1,1,0,0],label=\"middle\")\n",
        "plt.plot(inc[2],[0,0,0,1,1,1],label=\"upper\")\n",
        "plt.suptitle(\"INCOMES\")\n",
        "plt.legend()\n",
        "plt.show()"
      ],
      "execution_count": null,
      "outputs": [
        {
          "output_type": "display_data",
          "data": {
            "image/png": "[encoded data removed]",
            "text/plain": [
              "<Figure size 432x288 with 1 Axes>"
            ]
          },
          "metadata": {
            "tags": [],
            "needs_background": "light"
          }
        }
      ]
    },
    {
      "cell_type": "code",
      "metadata": {
        "id": "e3hYxkcDR-Kc"
      },
      "source": [
        "def income_up(x):\n",
        "  if (x>13.50 and x<=17.00):\n",
        "    return (x-13.50)/(17.00-13.50)\n",
        "  elif (x>17.00):\n",
        "    return 1\n",
        "  else:\n",
        "    return 0\n",
        "\n",
        "def income_mid(x):\n",
        "  if (x>15.00 and x<=16.75):\n",
        "    return (16.75-x)/(16.75 - 15.00)\n",
        "  elif (x>7.75 and x<=15.00):\n",
        "    return 1\n",
        "  elif (x>5.50 and x <=7.75):\n",
        "    return (x-5.50)/(7.75-5.50)\n",
        "  else:\n",
        "      return 0\n",
        "\n",
        "def income_btm(x):\n",
        "  if (x>4.00 and x <=8.50):\n",
        "    return (8.50-x)/(8.50-4.00)\n",
        "  elif (x<=4.00):\n",
        "    return 1\n",
        "  else:\n",
        "    return 0"
      ],
      "execution_count": null,
      "outputs": []
    },
    {
      "cell_type": "code",
      "metadata": {
        "id": "O0WCagzP2Rv7",
        "colab": {
          "base_uri": "https://localhost:8080/",
          "height": 294
        },
        "outputId": "7fac7b9f-7d06-4035-843a-1d6597848553"
      },
      "source": [
        "exp = [[0, 0, 2.00, 4.25, 11.30, 11.30],[0, 3.00, 5.50, 8.00, 10.00, 11.30],[0, 0, 8.30, 10.75, 11.30, 11.30 ]]\n",
        "\n",
        "plt.plot(exp[0],[1,1,1,0,0,0],label=\"low\")\n",
        "plt.plot(exp[1],[0,0,1,1,0,0],label=\"average\")\n",
        "plt.plot(exp[2],[0,0,0,1,1,1],label=\"high\")\n",
        "plt.suptitle(\"EXPENSES\")\n",
        "plt.legend()\n",
        "plt.show()"
      ],
      "execution_count": null,
      "outputs": [
        {
          "output_type": "display_data",
          "data": {
            "image/png": "[encoded data removed]",
            "text/plain": [
              "<Figure size 432x288 with 1 Axes>"
            ]
          },
          "metadata": {
            "tags": [],
            "needs_background": "light"
          }
        }
      ]
    },
    {
      "cell_type": "code",
      "metadata": {
        "id": "sMkkIHugppms"
      },
      "source": [
        "def expenses_high(x):\n",
        "  if (x>8.30 and x <=10.75):\n",
        "    return (x-8.30)/(10.75-8.30)\n",
        "  elif (x>10.75):\n",
        "    return 1\n",
        "  else:\n",
        "    return 0\n",
        "\n",
        "def expenses_Avg(x):\n",
        "  if (x>8.00 and x<=10.30):\n",
        "    return (10.30-x)/(10.30-8.00)\n",
        "  elif (x>5.00 and x<=8.00):\n",
        "    return 1\n",
        "  elif (x>3.00 and x<=5.00):\n",
        "    return (x-3.00)/(5.00-3.00)\n",
        "  else:\n",
        "    return 0\n",
        "\n",
        "def expenses_low(x):\n",
        "  if (x>2.00 and x<=4.25):\n",
        "    return (4.25-x)/(4.25-2.00)\n",
        "  elif (x<=2.00):\n",
        "    return 1\n",
        "  else:\n",
        "    return 0"
      ],
      "execution_count": null,
      "outputs": []
    },
    {
      "cell_type": "code",
      "metadata": {
        "id": "My2dtOZb3Ooi",
        "colab": {
          "base_uri": "https://localhost:8080/",
          "height": 294
        },
        "outputId": "a3e89ced-5255-4441-e748-8442773c61e4"
      },
      "source": [
        "mamdani = [[0, 0, 40, 60, 100],[0, 40, 60, 80, 100],[0, 0, 60, 80, 100]]\n",
        "\n",
        "plt.plot(mamdani[0],[1,1,1,0,0,],label=\"rejected\")\n",
        "plt.plot(mamdani[1],[0,0,1,0,0],label=\"considered\")\n",
        "plt.plot(mamdani[2],[0,0,0,1,1],label=\"accepted\")\n",
        "plt.suptitle(\"MAMDANI STYLE\")\n",
        "plt.legend()\n",
        "plt.show()"
      ],
      "execution_count": null,
      "outputs": [
        {
          "output_type": "display_data",
          "data": {
            "image/png": "[encoded data removed]",
            "text/plain": [
              "<Figure size 432x288 with 1 Axes>"
            ]
          },
          "metadata": {
            "tags": [],
            "needs_background": "light"
          }
        }
      ]
    },
    {
      "cell_type": "code",
      "metadata": {
        "id": "AUvup2Zph36n"
      },
      "source": [
        "def result_acpt(x):\n",
        "  if (x>60 and x<80):\n",
        "    return (x-60)/(80-60)\n",
        "  elif (x>=80):\n",
        "    return 1\n",
        "  else:\n",
        "    return 0\n",
        "\n",
        "def result_cons(x):\n",
        "  if (x>60 and x<=80):\n",
        "    return (80-x)/(80-60)\n",
        "  elif (x == 60):\n",
        "    return 1\n",
        "  elif (x>40 and x<60):\n",
        "    return (x-40)/(60-40)\n",
        "  else:\n",
        "    return 0\n",
        "\n",
        "def result_rej(x):\n",
        "  if (x>40 and x<60):\n",
        "    return (60-x)/(60-40)\n",
        "  elif (x<=40):\n",
        "    return 1\n",
        "  else:\n",
        "    return 0"
      ],
      "execution_count": null,
      "outputs": []
    },
    {
      "cell_type": "markdown",
      "metadata": {
        "id": "LNwVacfTEd2Y"
      },
      "source": [
        "INFERENCE"
      ]
    },
    {
      "cell_type": "code",
      "metadata": {
        "id": "zvNEOkmTu5KU"
      },
      "source": [
        "def inference(ds):\n",
        "  all_fuzzy = []\n",
        "  for i in range(len(ds)):\n",
        "    fuzzy = []\n",
        "    fill = True\n",
        "    while fill:\n",
        "      x = ds[i][1]\n",
        "      upper = income_up(x)\n",
        "      middle = income_mid(x)\n",
        "      bottom = income_btm(x)\n",
        "\n",
        "      y = ds[i][2]\n",
        "      high = expenses_high(y)\n",
        "      average = expenses_Avg(y)\n",
        "      low = expenses_low(y)\n",
        "\n",
        "      accepted = max(min(upper,high),min(upper,average),min(upper,low),min(middle,low))\n",
        "      considered = max(min(middle,high),min(middle,average),min(bottom,low))\n",
        "      rejected =  max(min(bottom,average),min(bottom,high))\n",
        "\n",
        "      fuzzy.append(accepted)\n",
        "      fuzzy.append(considered)\n",
        "      fuzzy.append(rejected)\n",
        "      fill = False\n",
        "    all_fuzzy.append(fuzzy)\n",
        "  return all_fuzzy"
      ],
      "execution_count": null,
      "outputs": []
    },
    {
      "cell_type": "markdown",
      "metadata": {
        "id": "ke0ATEryDqQ8"
      },
      "source": [
        "DEFUZZIFICATION"
      ]
    },
    {
      "cell_type": "code",
      "metadata": {
        "id": "ietwTnHNUB3S"
      },
      "source": [
        "def def_mandami(ds):\n",
        "  crisp = []\n",
        "  i = 5\n",
        "  while i < len(ds):\n",
        "    crisp.append(i)\n",
        "    i = i + 10\n",
        "  return crisp\n",
        "\n",
        "def def_method(fuz,rand,idx):\n",
        "  sum_up,sum_getMax,get_max = 0,0,0\n",
        "  for i in range (len(rand)):\n",
        "    get_rand = rand[i]\n",
        "    acc = result_cons(get_rand)\n",
        "    cons = result_rej(get_rand)\n",
        "    rej = result_rej(get_rand)\n",
        "    get_max = max(min(acc,fuz[idx][0]),min(cons,fuz[idx][1]),min(rej,fuz[idx][2]))\n",
        "    up = get_max*get_rand\n",
        "    sum_up = sum_up + up\n",
        "    sum_getMax = sum_getMax + get_max\n",
        "  z = sum_up/sum_getMax\n",
        "  return z \n",
        "\n",
        "def defuzzification(fuz,rand):\n",
        "  finResult = []\n",
        "  for i in range (len(fuz)):\n",
        "    createList = []\n",
        "    found = True\n",
        "    while found:\n",
        "      z = def_method(fuz,rand,i)\n",
        "      createList.append(i+1)\n",
        "      createList.append(z)\n",
        "      found = False\n",
        "    finResult.append(createList)\n",
        "  return finResult\n",
        "\n",
        "def sortResult(x):\n",
        "  return x[1]"
      ],
      "execution_count": null,
      "outputs": []
    },
    {
      "cell_type": "markdown",
      "metadata": {
        "id": "AOafurlQDg0V"
      },
      "source": [
        "MAIN FUNCTION"
      ]
    },
    {
      "cell_type": "code",
      "metadata": {
        "id": "KbQrmbSWYrdY",
        "colab": {
          "base_uri": "https://localhost:8080/"
        },
        "outputId": "7bc4de25-0868-47f1-a773-d0131b7d0901"
      },
      "source": [
        "student = pd.read_excel('Mahasiswa.xlsx')\n",
        "\n",
        "sid = student['Id'].values.tolist()\n",
        "print(sid)\n",
        "income = student['Penghasilan'].values.tolist()\n",
        "expense = student['Pengeluaran'].values.tolist()\n",
        "data_student = import_from_xls(sid,income,expense)\n",
        "fuz = inference(data_student)\n",
        "rand = def_mandami(data_student)\n",
        "selected = defuzzification(fuz,rand)\n",
        "selected.sort(reverse=True,key=sortResult)\n",
        "print(\"The selected students are: \")\n",
        "print(\"SID------>Result \")\n",
        "for i in range(20):\n",
        "  print(selected[i][0],\"------->\",selected[i][1])\n",
        "export_to_xls(selected)"
      ],
      "execution_count": null,
      "outputs": [
        {
          "output_type": "stream",
          "text": [
            "[1, 2, 3, 4, 5, 6, 7, 8, 9, 10, 11, 12, 13, 14, 15, 16, 17, 18, 19, 20, 21, 22, 23, 24, 25, 26, 27, 28, 29, 30, 31, 32, 33, 34, 35, 36, 37, 38, 39, 40, 41, 42, 43, 44, 45, 46, 47, 48, 49, 50, 51, 52, 53, 54, 55, 56, 57, 58, 59, 60, 61, 62, 63, 64, 65, 66, 67, 68, 69, 70, 71, 72, 73, 74, 75, 76, 77, 78, 79, 80, 81, 82, 83, 84, 85, 86, 87, 88, 89, 90, 91, 92, 93, 94, 95, 96, 97, 98, 99, 100]\n",
            "The selected students are: \n",
            "SID------>Result \n",
            "1 -------> 60.00000000000001\n",
            "44 -------> 60.00000000000001\n",
            "3 -------> 60.0\n",
            "5 -------> 60.0\n",
            "8 -------> 60.0\n",
            "9 -------> 60.0\n",
            "10 -------> 60.0\n",
            "15 -------> 60.0\n",
            "20 -------> 60.0\n",
            "22 -------> 60.0\n",
            "24 -------> 60.0\n",
            "28 -------> 60.0\n",
            "29 -------> 60.0\n",
            "30 -------> 60.0\n",
            "31 -------> 60.0\n",
            "34 -------> 60.0\n",
            "35 -------> 60.0\n",
            "45 -------> 60.0\n",
            "57 -------> 60.0\n",
            "58 -------> 60.0\n"
          ],
          "name": "stdout"
        }
      ]
    }
  ]
}